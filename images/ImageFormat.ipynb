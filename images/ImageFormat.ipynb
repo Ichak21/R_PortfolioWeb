{
 "cells": [
  {
   "cell_type": "code",
   "execution_count": 15,
   "metadata": {},
   "outputs": [],
   "source": [
    "# import libs for scipting :\n",
    "# walk for each folder\n",
    "# PIL for image processing\n",
    "# OS for navigation\n",
    "\n",
    "from ast import walk\n",
    "from PIL import Image\n",
    "import os "
   ]
  },
  {
   "cell_type": "code",
   "execution_count": 16,
   "metadata": {},
   "outputs": [],
   "source": [
    "# Current path\n",
    "path_cur = os.getcwd()\n",
    "\n",
    "# definiton des chemin de chacun gallerie de photos\n",
    "mountain1 = path_cur+\"/img_galleries/mountain1/\"\n",
    "mountain1_min = path_cur+\"/img_galleries/mountain1/min/\"\n",
    "\n",
    "mountain2 = path_cur+\"/img_galleries/mountain2/\"\n",
    "mountain2_min = path_cur+\"/img_galleries/mountain2/min/\"\n"
   ]
  },
  {
   "cell_type": "code",
   "execution_count": 17,
   "metadata": {},
   "outputs": [],
   "source": [
    "# Script for mountain 1\n",
    "for path, dirs, files in os.walk(mountain1):\n",
    "        with open(\"output_mountain1.html\", \"a\") as outputFile:\n",
    "            outputFile.write(\"<!-- Start balise pictures -->\\n\\n\")\n",
    "\n",
    "        for filename in files: #for each filename in the loop\n",
    "            if (filename[-5] != \"H\") & (filename[-5] != \"W\") :\n",
    "                myImg = Image.open(mountain1 + \"/\" + filename)\n",
    "                width_img = myImg.size[0]\n",
    "                height_img = myImg.size[1]\n",
    "\n",
    "                resW_img = myImg.resize((300,int(height_img*(300/width_img)))) # resize by width (min)\n",
    "                resW_img.save(mountain1_min+filename[:-4]+\"_resW.jpg\")\n",
    "\n",
    "                resH_img = myImg.resize((int(width_img*(250/height_img)),250)) # resize bu height (min)\n",
    "                resH_img.save(mountain1_min+filename[:-4]+\"_resH.jpg\")\n",
    "\n",
    "                # format the html output for each picture\n",
    "                output = \"<a href=\\\"\\\"\\n data-pswp-src=\\\".\\\\images\\\\img_galleries\\\\mountain1\\\\\" + filename + \"\\\"\\ndata-pswp-width=\\\"\"+str(width_img)+\"\\\"\\ndata-pswp-height=\\\"\"+str(height_img)+\"\\\"\\ntarget=\\\"_blank\\\">\\n</a>\\n\\n\"\n",
    "\n",
    "                # write output html file \n",
    "                with open(\"output_mountain1.html\", \"a\") as outputFile:\n",
    "                    outputFile.write(output)\n",
    "            else :\n",
    "\n",
    "                output = \"<img src=\\\".\\\\images\\\\img_galleries\\\\mountain1\\\\min\\\\\" + filename + \"\\\" alt=\\\"\\\" />\\n\\n\"\n",
    "\n",
    "                with open(\"output_mountain1.html\", \"a\") as outputFile:\n",
    "                    outputFile.write(output)\n"
   ]
  },
  {
   "cell_type": "code",
   "execution_count": 20,
   "metadata": {},
   "outputs": [],
   "source": [
    "# Script for mountain 2\n",
    "for path, dirs, files in os.walk(mountain2):\n",
    "        with open(\"output_mountain2.html\", \"a\") as outputFile:\n",
    "            outputFile.write(\"<!-- Start balise pictures -->\\n\\n\")\n",
    "\n",
    "        for filename in files: #for each filename in the loop\n",
    "            if (filename[-5] != \"H\") & (filename[-5] != \"W\") :\n",
    "                myImg = Image.open(mountain2 + \"/\" + filename)\n",
    "                width_img = myImg.size[0]\n",
    "                height_img = myImg.size[1]\n",
    "\n",
    "                resW_img = myImg.resize((300,int(height_img*(300/width_img)))) # resize by width (min)\n",
    "                resW_img.save(mountain2_min+filename[:-4]+\"_resW.jpg\")\n",
    "\n",
    "                resH_img = myImg.resize((int(width_img*(250/height_img)),250)) # resize bu height (min)\n",
    "                resH_img.save(mountain2_min+filename[:-4]+\"_resH.jpg\")\n",
    "\n",
    "                # format the html output for each picture\n",
    "                output = \"<a href=\\\"\\\"\\n data-pswp-src=\\\".\\\\images\\\\img_galleries\\\\mountain2\\\\\" + filename + \"\\\"\\ndata-pswp-width=\\\"\"+str(width_img)+\"\\\"\\ndata-pswp-height=\\\"\"+str(height_img)+\"\\\"\\ntarget=\\\"_blank\\\">\\n</a>\\n\\n\"\n",
    "\n",
    "                # write output html file \n",
    "                with open(\"output_mountain2.html\", \"a\") as outputFile:\n",
    "                    outputFile.write(output)\n",
    "            else :\n",
    "\n",
    "                output = \"<img src=\\\".\\\\images\\\\img_galleries\\\\mountain2\\\\min\\\\\" + filename + \"\\\" alt=\\\"\\\" />\\n\\n\"\n",
    "\n",
    "                with open(\"output_mountain2.html\", \"a\") as outputFile:\n",
    "                    outputFile.write(output)\n"
   ]
  },
  {
   "cell_type": "code",
   "execution_count": null,
   "metadata": {},
   "outputs": [],
   "source": []
  }
 ],
 "metadata": {
  "kernelspec": {
   "display_name": "Python 3.8.12 ('yolov5')",
   "language": "python",
   "name": "python3"
  },
  "language_info": {
   "codemirror_mode": {
    "name": "ipython",
    "version": 3
   },
   "file_extension": ".py",
   "mimetype": "text/x-python",
   "name": "python",
   "nbconvert_exporter": "python",
   "pygments_lexer": "ipython3",
   "version": "3.8.12"
  },
  "orig_nbformat": 4,
  "vscode": {
   "interpreter": {
    "hash": "6a8a53119db324ccc2003c66b52034cd678ef9cb3cb76a6739e1d3b15d99462c"
   }
  }
 },
 "nbformat": 4,
 "nbformat_minor": 2
}
